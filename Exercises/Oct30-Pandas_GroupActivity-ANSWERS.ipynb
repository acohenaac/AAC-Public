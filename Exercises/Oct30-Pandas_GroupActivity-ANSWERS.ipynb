{
  "metadata": {
    "language_info": {
      "codemirror_mode": {
        "name": "python",
        "version": 3
      },
      "file_extension": ".py",
      "mimetype": "text/x-python",
      "name": "python",
      "nbconvert_exporter": "python",
      "pygments_lexer": "ipython3",
      "version": "3.8"
    },
    "kernelspec": {
      "name": "python",
      "display_name": "Python (Pyodide)",
      "language": "python"
    }
  },
  "nbformat_minor": 4,
  "nbformat": 4,
  "cells": [
    {
      "cell_type": "code",
      "source": "import pandas as pd\nd={'Mouse':[150,200,300,400],\n   'Keyboard':[180,200,190,300],\n   'Scanner':[200,280,330,450]}\ndf=pd.DataFrame(d,index=['Jan','Feb','March','April'])\n",
      "metadata": {
        "trusted": true
      },
      "execution_count": 6,
      "outputs": []
    },
    {
      "cell_type": "code",
      "source": "print(df.columns)",
      "metadata": {
        "trusted": true
      },
      "execution_count": 10,
      "outputs": [
        {
          "name": "stdout",
          "text": "Index(['Mouse', 'Keyboard', 'Scanner'], dtype='object')\n",
          "output_type": "stream"
        }
      ]
    },
    {
      "cell_type": "code",
      "source": "df[['Mouse', 'Scanner']]",
      "metadata": {
        "trusted": true
      },
      "execution_count": 17,
      "outputs": [
        {
          "execution_count": 17,
          "output_type": "execute_result",
          "data": {
            "text/plain": "       Mouse  Scanner\nJan      150      200\nFeb      200      280\nMarch    300      330\nApril    400      450",
            "text/html": "<div>\n<style scoped>\n    .dataframe tbody tr th:only-of-type {\n        vertical-align: middle;\n    }\n\n    .dataframe tbody tr th {\n        vertical-align: top;\n    }\n\n    .dataframe thead th {\n        text-align: right;\n    }\n</style>\n<table border=\"1\" class=\"dataframe\">\n  <thead>\n    <tr style=\"text-align: right;\">\n      <th></th>\n      <th>Mouse</th>\n      <th>Scanner</th>\n    </tr>\n  </thead>\n  <tbody>\n    <tr>\n      <th>Jan</th>\n      <td>150</td>\n      <td>200</td>\n    </tr>\n    <tr>\n      <th>Feb</th>\n      <td>200</td>\n      <td>280</td>\n    </tr>\n    <tr>\n      <th>March</th>\n      <td>300</td>\n      <td>330</td>\n    </tr>\n    <tr>\n      <th>April</th>\n      <td>400</td>\n      <td>450</td>\n    </tr>\n  </tbody>\n</table>\n</div>"
          },
          "metadata": {}
        }
      ]
    },
    {
      "cell_type": "code",
      "source": "df.Keyboard",
      "metadata": {
        "trusted": true
      },
      "execution_count": 18,
      "outputs": [
        {
          "execution_count": 18,
          "output_type": "execute_result",
          "data": {
            "text/plain": "Jan      180\nFeb      200\nMarch    190\nApril    300\nName: Keyboard, dtype: int64"
          },
          "metadata": {}
        }
      ]
    },
    {
      "cell_type": "code",
      "source": "df.loc[: ,'Scanner']",
      "metadata": {
        "trusted": true
      },
      "execution_count": 28,
      "outputs": [
        {
          "execution_count": 28,
          "output_type": "execute_result",
          "data": {
            "text/plain": "Jan      200\nFeb      280\nMarch    330\nApril    450\nName: Scanner, dtype: int64"
          },
          "metadata": {}
        }
      ]
    },
    {
      "cell_type": "code",
      "source": "Mouse200 = df[df['Mouse'] > 200]\nprint (Mouse200)",
      "metadata": {
        "trusted": true
      },
      "execution_count": 33,
      "outputs": [
        {
          "name": "stdout",
          "text": "       Mouse  Keyboard  Scanner\nMarch    300       190      330\nApril    400       300      450\n",
          "output_type": "stream"
        }
      ]
    },
    {
      "cell_type": "code",
      "source": "Mouse200=df.iloc[:, [0,2]]\nprint(Mouse200)",
      "metadata": {
        "trusted": true
      },
      "execution_count": 38,
      "outputs": [
        {
          "name": "stdout",
          "text": "       Mouse  Scanner\nJan      150      200\nFeb      200      280\nMarch    300      330\nApril    400      450\n",
          "output_type": "stream"
        }
      ]
    },
    {
      "cell_type": "code",
      "source": "df.iloc[:, [0,2]]",
      "metadata": {
        "trusted": true
      },
      "execution_count": 39,
      "outputs": [
        {
          "execution_count": 39,
          "output_type": "execute_result",
          "data": {
            "text/plain": "       Mouse  Scanner\nJan      150      200\nFeb      200      280\nMarch    300      330\nApril    400      450",
            "text/html": "<div>\n<style scoped>\n    .dataframe tbody tr th:only-of-type {\n        vertical-align: middle;\n    }\n\n    .dataframe tbody tr th {\n        vertical-align: top;\n    }\n\n    .dataframe thead th {\n        text-align: right;\n    }\n</style>\n<table border=\"1\" class=\"dataframe\">\n  <thead>\n    <tr style=\"text-align: right;\">\n      <th></th>\n      <th>Mouse</th>\n      <th>Scanner</th>\n    </tr>\n  </thead>\n  <tbody>\n    <tr>\n      <th>Jan</th>\n      <td>150</td>\n      <td>200</td>\n    </tr>\n    <tr>\n      <th>Feb</th>\n      <td>200</td>\n      <td>280</td>\n    </tr>\n    <tr>\n      <th>March</th>\n      <td>300</td>\n      <td>330</td>\n    </tr>\n    <tr>\n      <th>April</th>\n      <td>400</td>\n      <td>450</td>\n    </tr>\n  </tbody>\n</table>\n</div>"
          },
          "metadata": {}
        }
      ]
    },
    {
      "cell_type": "code",
      "source": "selected_data = df.loc[['Jan', 'March'], ['Scanner', 'Keyboard']]\nprint(selected_data)",
      "metadata": {
        "trusted": true
      },
      "execution_count": 40,
      "outputs": [
        {
          "name": "stdout",
          "text": "       Scanner  Keyboard\nJan        200       180\nMarch      330       190\n",
          "output_type": "stream"
        }
      ]
    },
    {
      "cell_type": "code",
      "source": "df.iloc[::2,1::] ",
      "metadata": {
        "trusted": true
      },
      "execution_count": 41,
      "outputs": [
        {
          "execution_count": 41,
          "output_type": "execute_result",
          "data": {
            "text/plain": "       Keyboard  Scanner\nJan         180      200\nMarch       190      330",
            "text/html": "<div>\n<style scoped>\n    .dataframe tbody tr th:only-of-type {\n        vertical-align: middle;\n    }\n\n    .dataframe tbody tr th {\n        vertical-align: top;\n    }\n\n    .dataframe thead th {\n        text-align: right;\n    }\n</style>\n<table border=\"1\" class=\"dataframe\">\n  <thead>\n    <tr style=\"text-align: right;\">\n      <th></th>\n      <th>Keyboard</th>\n      <th>Scanner</th>\n    </tr>\n  </thead>\n  <tbody>\n    <tr>\n      <th>Jan</th>\n      <td>180</td>\n      <td>200</td>\n    </tr>\n    <tr>\n      <th>March</th>\n      <td>190</td>\n      <td>330</td>\n    </tr>\n  </tbody>\n</table>\n</div>"
          },
          "metadata": {}
        }
      ]
    },
    {
      "cell_type": "code",
      "source": "",
      "metadata": {},
      "execution_count": null,
      "outputs": []
    }
  ]
}