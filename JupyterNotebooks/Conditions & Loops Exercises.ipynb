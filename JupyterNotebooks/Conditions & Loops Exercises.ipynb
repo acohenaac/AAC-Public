{
 "cells": [
  {
   "cell_type": "markdown",
   "metadata": {},
   "source": [
    "# Conditions & Loops Exercises"
   ]
  },
  {
   "cell_type": "code",
   "execution_count": null,
   "metadata": {},
   "outputs": [],
   "source": [
    "#Q1 Given two integer numbers. \n",
    "#If any of the numbers are greater than 50 return their product,\n",
    "#else return their sum\n",
    "number1= 20\n",
    "number2= 40"
   ]
  },
  {
   "cell_type": "code",
   "execution_count": null,
   "metadata": {},
   "outputs": [],
   "source": [
    "#Q2 Given a list of numbers, \n",
    "#return True if first and last number of a list is same\n",
    "#list=[1,2,5,4,1]"
   ]
  },
  {
   "cell_type": "code",
   "execution_count": null,
   "metadata": {},
   "outputs": [],
   "source": [
    "#Q3 Given a range of the first 10 numbers[1:10], \n",
    "#Iterate from the start number to the end number, \n",
    "#and In each iteration print the sum of the current number and previous number"
   ]
  },
  {
   "cell_type": "code",
   "execution_count": null,
   "metadata": {},
   "outputs": [],
   "source": [
    "#Q4 Given a string name, \n",
    "#display only those characters which are present at an even index number\n",
    "name=\"NPowerCanada\""
   ]
  },
  {
   "cell_type": "code",
   "execution_count": null,
   "metadata": {},
   "outputs": [],
   "source": [
    "#Q5 Given a string oldString and an integer number n, \n",
    "#remove characters from a string starting from zero up to n \n",
    "#and return a newString\n",
    "# oldString=\"PythonCourse\"\n",
    "#n=6"
   ]
  },
  {
   "cell_type": "code",
   "execution_count": null,
   "metadata": {},
   "outputs": [],
   "source": [
    "#Q6 Print the follwoing pattern\n",
    "\n",
    "#*\n",
    "#**\n",
    "#***\n",
    "#****"
   ]
  },
  {
   "cell_type": "code",
   "execution_count": null,
   "metadata": {},
   "outputs": [],
   "source": [
    "#Q7 Reverse the following list using for loop\n",
    "#list1=[90,70,50,60]"
   ]
  },
  {
   "cell_type": "code",
   "execution_count": null,
   "metadata": {},
   "outputs": [],
   "source": [
    "#Q8 Display numbers from -10 to -1 using for loop \n",
    "#[hint use range method]"
   ]
  }
 ],
 "metadata": {
  "kernelspec": {
   "display_name": "Python 3 (ipykernel)",
   "language": "python",
   "name": "python3"
  },
  "language_info": {
   "codemirror_mode": {
    "name": "ipython",
    "version": 3
   },
   "file_extension": ".py",
   "mimetype": "text/x-python",
   "name": "python",
   "nbconvert_exporter": "python",
   "pygments_lexer": "ipython3",
   "version": "3.9.12"
  }
 },
 "nbformat": 4,
 "nbformat_minor": 4
}
