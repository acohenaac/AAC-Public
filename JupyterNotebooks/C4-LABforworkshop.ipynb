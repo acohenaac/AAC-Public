{
 "cells": [
  {
   "cell_type": "code",
   "execution_count": 1,
   "id": "389fe2f7",
   "metadata": {},
   "outputs": [],
   "source": [
    "# Let's Learn to import library first\n",
    "\n",
    "import sqlite3\n"
   ]
  },
  {
   "cell_type": "code",
   "execution_count": 3,
   "id": "eb636b2e",
   "metadata": {},
   "outputs": [
    {
     "name": "stdout",
     "output_type": "stream",
     "text": [
      "Database connected successfully\n",
      "Number of records:  7\n",
      "1 Geetu 34.6 \n",
      "2 None 56.7 \n",
      "101 None 4000.0 \n",
      "102 Alazar 3500.0 \n",
      "103 Ishan 4200.0 \n",
      "104 Katie 4500.0 \n",
      "105 Jenet 4500.0 \n"
     ]
    }
   ],
   "source": [
    "#We will do properly with try catch block (without dataframe)\n",
    "\n",
    "try:\n",
    "    sqlconnection=sqlite3.connect(\"C:\\\\Users\\Geetu Sodhi\\\\Desktop\\Teacher.db\")\n",
    "    cursor=sqlconnection.cursor()\n",
    "    print(\"Database connected successfully\")\n",
    "    query=\"\"\"SELECT * FROM Employee \"\"\"\n",
    "    cursor.execute(query)\n",
    "    records=cursor.fetchall()\n",
    "    print(\"Number of records: \",len(records))\n",
    "    for row in records:\n",
    "        print(row[0],end=\" \")\n",
    "        print(row[1],end=\" \")\n",
    "        print(row[2],end=\" \")\n",
    "        print()\n",
    "except sqlite3.Error as error:\n",
    "    print(\"Error\")\n",
    "finally:\n",
    "    sqlconnection.close()\n"
   ]
  },
  {
   "cell_type": "code",
   "execution_count": 4,
   "id": "d3779da3",
   "metadata": {},
   "outputs": [
    {
     "name": "stdout",
     "output_type": "stream",
     "text": [
      "Database connected successfully\n",
      "     0     1       2                   3    4\n",
      "0  101  None  4000.0  Software Developer  D01\n"
     ]
    }
   ],
   "source": [
    "#Lets see the benift of using dataframe\n",
    "\n",
    "import pandas as pd\n",
    "try:\n",
    "    sqlconnection=sqlite3.connect(\"C:\\\\Users\\Geetu Sodhi\\\\Desktop\\Teacher.db\")\n",
    "    cursor=sqlconnection.cursor()\n",
    "    print(\"Database connected successfully\")\n",
    "    query=\"\"\"SELECT * FROM Employee where eid=101 \"\"\"\n",
    "    cursor.execute(query)\n",
    "    df = pd.DataFrame(cursor.fetchall())\n",
    "    print (df)\n",
    "except sqlite3.Error as error:\n",
    "    print(\"Error\")\n"
   ]
  },
  {
   "cell_type": "code",
   "execution_count": 8,
   "id": "38237486",
   "metadata": {},
   "outputs": [
    {
     "name": "stdout",
     "output_type": "stream",
     "text": [
      "Database connected successfully\n",
      "\n",
      "   EID    Name  Salary                  JobTitle  DID\n",
      "0    1   Geetu    34.6                       hhh  D01\n",
      "1    2    None    56.7                       hhh  D02\n",
      "2  101    None  4000.0        Software Developer  D01\n",
      "3  102  Alazar  3500.0          Business Analyst  D01\n",
      "4  103   Ishan  4200.0            Technical Lead  D01\n",
      "5  104   Katie  4500.0  Proffesional Coordinator  D02\n",
      "6  105   Jenet  4500.0              Personal Dev  D03\n"
     ]
    }
   ],
   "source": [
    "#Lets learn to fetch column names and place it properly\n",
    "\n",
    "import pandas as pd\n",
    "try:\n",
    "    sqlconnection=sqlite3.connect(\"C:\\\\Users\\Geetu Sodhi\\\\Desktop\\Teacher.db\")\n",
    "    cursor=sqlconnection.cursor()\n",
    "    print(\"Database connected successfully\")\n",
    "    print()\n",
    "    query=\"\"\"SELECT * FROM Employee where eid=101 \"\"\"\n",
    "    cursor.execute(query)\n",
    "    #Lets create a list to fetch column names\n",
    "    names=[]\n",
    "    cursor.execute(''' Select * from Employee''')\n",
    "    #fetch column names and add it to the empty list \"Names\"\n",
    "    for x in cursor.description:\n",
    "        names.append(x[0])  \n",
    "        \n",
    "    df = pd.DataFrame(cursor.fetchall(),columns=names)\n",
    "    print(df)\n",
    "    #df = pd.DataFrame(cursor.fetchall())\n",
    "    #print (df)\n",
    "except sqlite3.Error as error:\n",
    "    print(\"Error\")\n",
    "\n"
   ]
  },
  {
   "cell_type": "code",
   "execution_count": 9,
   "id": "df550c44",
   "metadata": {},
   "outputs": [
    {
     "name": "stdout",
     "output_type": "stream",
     "text": [
      "       0       1       2                         3    4\n",
      "0      1   Geetu    34.6                       hhh  D01\n",
      "1      2    None    56.7                       hhh  D02\n",
      "2    101    None  4000.0        Software Developer  D01\n",
      "3    102  Alazar  3500.0          Business Analyst  D01\n",
      "4    103   Ishan  4200.0            Technical Lead  D01\n",
      "5    104   Katie  4500.0  Proffesional Coordinator  D02\n",
      "6    105   Jenet  4500.0              Personal Dev  D03\n",
      "7    111   Geetu  3400.6                       hhh  D01\n",
      "8    112   Nancy  5600.7                       hhh  D02\n",
      "9   1021   Geetu  3400.6                       hhh  D01\n",
      "10  1031   Geetu  3400.6                       hhh  D01\n",
      "11  2022   Nancy  5600.7                       hhh  D02\n",
      "12  2032   Nancy  5600.7                       hhh  D02\n"
     ]
    }
   ],
   "source": [
    "#Adding data to the Exisisitng file\n",
    "\n",
    "import pandas as pd\n",
    "import sqlite3\n",
    "conn=sqlite3.connect(\"C:\\\\Users\\\\Geetu Sodhi\\\\Downloads\\\\Teacher.db\")\n",
    "c = conn.cursor()\n",
    "\n",
    "d={\"EID\":[111,112],\"Name\":[\"Geetu\",\"Nancy\"],\"Salary\":[3400.6,5600.7],\"JobTitle\":[\"hhh\",\"hhh\"],\"DID\":[\"D01\",\"D02\"]}\n",
    "df2=pd.DataFrame(d)\n",
    "\n",
    "df2.to_sql('Employee', conn, if_exists='append', index = False)\n",
    "\n",
    "c.execute(''' Select * from Employee''')\n",
    "\n",
    "df = pd.DataFrame(c.fetchall())\n",
    "print (df)"
   ]
  },
  {
   "cell_type": "code",
   "execution_count": 10,
   "id": "4520007b",
   "metadata": {},
   "outputs": [
    {
     "name": "stdout",
     "output_type": "stream",
     "text": [
      "Record inserted scucesfully\n",
      "       0        1       2                         3    4\n",
      "0      1    Geetu    34.6                       hhh  D01\n",
      "1      2     None    56.7                       hhh  D02\n",
      "2    101     None  4000.0        Software Developer  D01\n",
      "3    102   Alazar  3500.0          Business Analyst  D01\n",
      "4    103    Ishan  4200.0            Technical Lead  D01\n",
      "5    104    Katie  4500.0  Proffesional Coordinator  D02\n",
      "6    105    Jenet  4500.0              Personal Dev  D03\n",
      "7    111    Geetu  3400.6                       hhh  D01\n",
      "8    112    Nancy  5600.7                       hhh  D02\n",
      "9    115  Olivier  3455.0                QA Analyst  D01\n",
      "10  1021    Geetu  3400.6                       hhh  D01\n",
      "11  1031    Geetu  3400.6                       hhh  D01\n",
      "12  2022    Nancy  5600.7                       hhh  D02\n",
      "13  2032    Nancy  5600.7                       hhh  D02\n"
     ]
    }
   ],
   "source": [
    "#Adding data to the Exsistng file -Let's try with insert command\n",
    "\n",
    "import pandas as pd\n",
    "import sqlite3\n",
    "conn=sqlite3.connect(\"C:\\\\Users\\\\Geetu Sodhi\\\\Downloads\\\\Teacher.db\")\n",
    "c = conn.cursor()\n",
    "\n",
    "sqlquery=\"\"\"   insert into Employee values(115,\"Olivier\",3455,\"QA Analyst\",\"D01\")      \"\"\"\n",
    "\n",
    "c.execute(sqlquery)\n",
    "\n",
    "#Committing is very important after insert command otherwise it will not show the result on database\n",
    "\n",
    "conn.commit()\n",
    "\n",
    "print(\"Record inserted succesfully\")\n",
    "\n",
    "c.execute(''' Select * from Employee''')\n",
    "\n",
    "df = pd.DataFrame(c.fetchall())\n",
    "print (df)\n"
   ]
  },
  {
   "cell_type": "code",
   "execution_count": 13,
   "id": "f662a7d1",
   "metadata": {},
   "outputs": [
    {
     "name": "stdout",
     "output_type": "stream",
     "text": [
      "Enter the name of the person for whom you wish to change the salary Geetu\n",
      "Enter the salary6000\n",
      "Record updated succesfully\n",
      "       0        1       2                         3    4\n",
      "0      1    Geetu  6000.0                       hhh  D01\n",
      "1      2     None    56.7                       hhh  D02\n",
      "2    101     None  4000.0        Software Developer  D01\n",
      "3    102   Alazar  3500.0          Business Analyst  D01\n",
      "4    103    Ishan  4200.0            Technical Lead  D01\n",
      "5    104    Katie  4500.0  Proffesional Coordinator  D02\n",
      "6    105    Jenet  4500.0              Personal Dev  D03\n",
      "7    111    Geetu  6000.0                       hhh  D01\n",
      "8    112    Nancy  5600.7                       hhh  D02\n",
      "9    115  Olivier  3455.0                QA Analyst  D01\n",
      "10  1021    Geetu  6000.0                       hhh  D01\n",
      "11  1031    Geetu  6000.0                       hhh  D01\n",
      "12  2022    Nancy  5600.7                       hhh  D02\n",
      "13  2032    Nancy  5600.7                       hhh  D02\n"
     ]
    }
   ],
   "source": [
    "#Let's learn to update now?\n",
    "\n",
    "import pandas as pd\n",
    "import sqlite3\n",
    "conn=sqlite3.connect(\"C:\\\\Users\\\\Geetu Sodhi\\\\Downloads\\\\Teacher.db\")\n",
    "c = conn.cursor()\n",
    "\n",
    "Name= input(\"Enter the name of the person for whom you wish to change the salary: \")\n",
    "Salary=input(\"Enter the salary:\")\n",
    "\n",
    "sqlquery=\"\"\"  update Employee set salary=? where Name=?      \"\"\"\n",
    "data=(Salary,Name )\n",
    "\n",
    "c.execute(sqlquery,data)\n",
    "\n",
    "#Committing is very important after insert command otherwise it will not show the result on database\n",
    "\n",
    "conn.commit()\n",
    "\n",
    "print(\"Record updated succesfully\")\n",
    "\n",
    "c.execute(''' Select * from Employee''')\n",
    "\n",
    "df = pd.DataFrame(c.fetchall())\n",
    "print (df)\n"
   ]
  },
  {
   "cell_type": "code",
   "execution_count": 16,
   "id": "5c105728",
   "metadata": {},
   "outputs": [
    {
     "name": "stdout",
     "output_type": "stream",
     "text": [
      "Record updated succesfully\n",
      "       0        1       2                         3    4\n",
      "0      1    Geetu  6000.0                       hhh  D01\n",
      "1      2     None    56.7                       hhh  D02\n",
      "2    102   Alazar  3500.0          Business Analyst  D01\n",
      "3    103    Ishan  4200.0            Technical Lead  D01\n",
      "4    104    Katie  4500.0  Proffesional Coordinator  D02\n",
      "5    105    Jenet  4500.0              Personal Dev  D03\n",
      "6    111    Geetu  6000.0                       hhh  D01\n",
      "7    112    Nancy  5600.7                       hhh  D02\n",
      "8    115  Olivier  3455.0                QA Analyst  D01\n",
      "9   1021    Geetu  6000.0                       hhh  D01\n",
      "10  1031    Geetu  6000.0                       hhh  D01\n",
      "11  2022    Nancy  5600.7                       hhh  D02\n",
      "12  2032    Nancy  5600.7                       hhh  D02\n"
     ]
    }
   ],
   "source": [
    "#Let's learn to delete now...\n",
    "\n",
    "import pandas as pd\n",
    "import sqlite3\n",
    "conn=sqlite3.connect(\"C:\\\\Users\\\\Geetu Sodhi\\\\Downloads\\\\Teacher.db\")\n",
    "c = conn.cursor()\n",
    "\n",
    "#idd= input(\"Enter the Eid of the person: \")\n",
    "\n",
    "sqlquery=\"\"\"  Delete from Employee where Eid=101      \"\"\"\n",
    "#data=(idd)\n",
    "\n",
    "c.execute(sqlquery)\n",
    "\n",
    "#Committing is very important after insert command otherwise it will not show the result on database\n",
    "\n",
    "conn.commit()\n",
    "\n",
    "print(\"Record updated succesfully\")\n",
    "\n",
    "c.execute(''' Select * from Employee''')\n",
    "\n",
    "df = pd.DataFrame(c.fetchall())\n",
    "print (df)"
   ]
  },
  {
   "cell_type": "code",
   "execution_count": 19,
   "id": "507e7735",
   "metadata": {},
   "outputs": [
    {
     "name": "stdout",
     "output_type": "stream",
     "text": [
      "Database connected successfully\n",
      "Table created succesfully\n"
     ]
    }
   ],
   "source": [
    "#How about creating a new table?  Want to try? lets do it\n",
    "\n",
    "try:\n",
    "    sqlconnection=sqlite3.connect(\"C:\\\\Users\\Geetu Sodhi\\\\Desktop\\Teacher.db\")\n",
    "    cursor=sqlconnection.cursor()\n",
    "    print(\"Database connected successfully\")\n",
    "    query=\"\"\"Create table Projects (PID int PRIMARY KEY, Pname Text, PManager Text); \"\"\"\n",
    "    cursor.execute(query)\n",
    "    sqlconnection.commit()\n",
    "    print(\"Table created succesfully\")\n",
    "except sqlite3.Error as error:\n",
    "    print(\"Error\")\n",
    "finally:\n",
    "    sqlconnection.close()\n",
    "\n"
   ]
  },
  {
   "cell_type": "code",
   "execution_count": null,
   "id": "f09e423d",
   "metadata": {},
   "outputs": [],
   "source": [
    "#Heard about Executemany() .... leaving it for you to explore"
   ]
  }
 ],
 "metadata": {
  "kernelspec": {
   "display_name": "Python 3",
   "language": "python",
   "name": "python3"
  },
  "language_info": {
   "codemirror_mode": {
    "name": "ipython",
    "version": 3
   },
   "file_extension": ".py",
   "mimetype": "text/x-python",
   "name": "python",
   "nbconvert_exporter": "python",
   "pygments_lexer": "ipython3",
   "version": "3.8.8"
  }
 },
 "nbformat": 4,
 "nbformat_minor": 5
}
