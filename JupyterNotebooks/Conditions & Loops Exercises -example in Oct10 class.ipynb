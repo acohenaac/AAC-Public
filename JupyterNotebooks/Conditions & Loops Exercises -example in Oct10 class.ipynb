{
 "cells": [
  {
   "cell_type": "markdown",
   "metadata": {},
   "source": [
    "# Conditions & Loops Exercises"
   ]
  },
  {
   "cell_type": "code",
   "execution_count": 31,
   "metadata": {},
   "outputs": [
    {
     "name": "stdout",
     "output_type": "stream",
     "text": [
      "60\n"
     ]
    }
   ],
   "source": [
    "#Q1 Given two integer numbers. \n",
    "#If any of the numbers are greater than 50 return their product,\n",
    "#else return their sum\n",
    "number1= 20\n",
    "number2= 40\n",
    "\n",
    "if number1>50 or number2 > 50:\n",
    "    print(number1*number2)\n",
    "else:\n",
    "    print(number1+number2)"
   ]
  },
  {
   "cell_type": "code",
   "execution_count": 4,
   "metadata": {},
   "outputs": [
    {
     "name": "stdout",
     "output_type": "stream",
     "text": [
      "True\n"
     ]
    }
   ],
   "source": [
    "#Q2 Given a list of numbers, \n",
    "#return True if first and last number of a list is same\n",
    "list=[1,2,5,4,1]\n",
    "if list[0]==list[-1]:\n",
    "    print(\"True\")\n",
    "else:\n",
    "    print(\"False\")"
   ]
  },
  {
   "cell_type": "code",
   "execution_count": 15,
   "metadata": {},
   "outputs": [
    {
     "name": "stdout",
     "output_type": "stream",
     "text": [
      "Previous Number: 0     Current Number: 1     Sum: 1\n",
      "Previous Number: 1     Current Number: 2     Sum: 3\n",
      "Previous Number: 3     Current Number: 3     Sum: 6\n",
      "Previous Number: 6     Current Number: 4     Sum: 10\n",
      "Previous Number: 10     Current Number: 5     Sum: 15\n",
      "Previous Number: 15     Current Number: 6     Sum: 21\n",
      "Previous Number: 21     Current Number: 7     Sum: 28\n",
      "Previous Number: 28     Current Number: 8     Sum: 36\n",
      "Previous Number: 36     Current Number: 9     Sum: 45\n",
      "Previous Number: 45     Current Number: 10     Sum: 55\n"
     ]
    }
   ],
   "source": [
    "#Q3 Given a range of the first 10 numbers[1:10], \n",
    "#Iterate from the start number to the end number, \n",
    "#and In each iteration print the sum of the current number and previous number\n",
    "previousNumber=0\n",
    "for i in range(1,11):\n",
    "    sum=previousNumber+i\n",
    "    print(\"Previous Number: \" + str(previousNumber) + \"     Current Number: \"+ str(i) + \"     Sum: \" + str(sum))\n",
    "    previousNumber=sum"
   ]
  },
  {
   "cell_type": "code",
   "execution_count": 17,
   "metadata": {},
   "outputs": [
    {
     "name": "stdout",
     "output_type": "stream",
     "text": [
      "N\n",
      "o\n",
      "e\n",
      "C\n",
      "n\n",
      "d\n"
     ]
    }
   ],
   "source": [
    "#Q4 Given a string name, \n",
    "#display only those characters which are present at an even index number\n",
    "name=\"NPowerCanada\"\n",
    "for i in name:\n",
    "    if(name.index(i))%2 ==0:\n",
    "        print(i)"
   ]
  },
  {
   "cell_type": "code",
   "execution_count": 18,
   "metadata": {},
   "outputs": [
    {
     "name": "stdout",
     "output_type": "stream",
     "text": [
      "Old String: PythonCourse\n",
      "New String: Course\n"
     ]
    }
   ],
   "source": [
    "#Q5 Given a string oldString and an integer number n, \n",
    "#remove characters from a string starting from zero up to n \n",
    "#and return a newString\n",
    "oldString=\"PythonCourse\"\n",
    "n=6\n",
    "newString = \"\"\n",
    "for i in range(0,len(oldString)):\n",
    "    if i>=n:\n",
    "        newString = newString + oldString[i]\n",
    "print(\"Old String: \" + oldString)\n",
    "print(\"New String: \"+newString)"
   ]
  },
  {
   "cell_type": "code",
   "execution_count": 28,
   "metadata": {},
   "outputs": [
    {
     "name": "stdout",
     "output_type": "stream",
     "text": [
      "\n",
      "*\n",
      "**\n",
      "***\n",
      "****\n"
     ]
    }
   ],
   "source": [
    "#Q6 Print the follwoing pattern\n",
    "\n",
    "#*\n",
    "#**\n",
    "#***\n",
    "#****\n",
    "n=4\n",
    "for i in range(n+1):\n",
    "    for j in range(i):\n",
    "        print(\"*\", end=\"\")\n",
    "    print(\"\")"
   ]
  },
  {
   "cell_type": "code",
   "execution_count": 29,
   "metadata": {},
   "outputs": [
    {
     "name": "stdout",
     "output_type": "stream",
     "text": [
      "[60, 50, 70, 90]\n"
     ]
    }
   ],
   "source": [
    "#Q7 Reverse the following list using for loop\n",
    "list1=[90,70,50,60]\n",
    "list2 = []\n",
    "for i in list1:\n",
    "    list2 = [i] + list2\n",
    "print(list2)"
   ]
  },
  {
   "cell_type": "code",
   "execution_count": 30,
   "metadata": {},
   "outputs": [
    {
     "name": "stdout",
     "output_type": "stream",
     "text": [
      "-10\n",
      "-9\n",
      "-8\n",
      "-7\n",
      "-6\n",
      "-5\n",
      "-4\n",
      "-3\n",
      "-2\n",
      "-1\n"
     ]
    }
   ],
   "source": [
    "#Q8 Display numbers from -10 to -1 using for loop \n",
    "#[hint use range method]\n",
    "for i in range(-10,0):\n",
    "    print(i)"
   ]
  },
  {
   "cell_type": "code",
   "execution_count": null,
   "metadata": {},
   "outputs": [],
   "source": []
  }
 ],
 "metadata": {
  "kernelspec": {
   "display_name": "Python 3 (ipykernel)",
   "language": "python",
   "name": "python3"
  },
  "language_info": {
   "codemirror_mode": {
    "name": "ipython",
    "version": 3
   },
   "file_extension": ".py",
   "mimetype": "text/x-python",
   "name": "python",
   "nbconvert_exporter": "python",
   "pygments_lexer": "ipython3",
   "version": "3.9.13"
  }
 },
 "nbformat": 4,
 "nbformat_minor": 4
}
